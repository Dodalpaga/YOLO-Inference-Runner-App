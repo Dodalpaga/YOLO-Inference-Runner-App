{
 "cells": [
  {
   "cell_type": "code",
   "execution_count": 3,
   "metadata": {},
   "outputs": [
    {
     "name": "stderr",
     "output_type": "stream",
     "text": [
      "Using cache found in /home/dodalpaga/.cache/torch/hub/ultralytics_yolov5_master\n",
      "YOLOv5 🚀 2022-4-28 torch 1.11.0+cu102 CPU\n",
      "\n",
      "Fusing layers... \n",
      "Model summary: 213 layers, 7012822 parameters, 0 gradients, 15.8 GFLOPs\n",
      "Adding AutoShape... \n"
     ]
    },
    {
     "data": {
      "text/html": [
       "<div>\n",
       "<style scoped>\n",
       "    .dataframe tbody tr th:only-of-type {\n",
       "        vertical-align: middle;\n",
       "    }\n",
       "\n",
       "    .dataframe tbody tr th {\n",
       "        vertical-align: top;\n",
       "    }\n",
       "\n",
       "    .dataframe thead th {\n",
       "        text-align: right;\n",
       "    }\n",
       "</style>\n",
       "<table border=\"1\" class=\"dataframe\">\n",
       "  <thead>\n",
       "    <tr style=\"text-align: right;\">\n",
       "      <th></th>\n",
       "      <th>xcenter</th>\n",
       "      <th>ycenter</th>\n",
       "      <th>width</th>\n",
       "      <th>height</th>\n",
       "      <th>confidence</th>\n",
       "      <th>class</th>\n",
       "      <th>name</th>\n",
       "    </tr>\n",
       "  </thead>\n",
       "  <tbody>\n",
       "    <tr>\n",
       "      <th>0</th>\n",
       "      <td>43.065254</td>\n",
       "      <td>34.503006</td>\n",
       "      <td>64.564636</td>\n",
       "      <td>39.929722</td>\n",
       "      <td>0.643403</td>\n",
       "      <td>0</td>\n",
       "      <td>Spaghetti</td>\n",
       "    </tr>\n",
       "    <tr>\n",
       "      <th>1</th>\n",
       "      <td>115.878937</td>\n",
       "      <td>97.634796</td>\n",
       "      <td>209.692688</td>\n",
       "      <td>128.516479</td>\n",
       "      <td>0.265083</td>\n",
       "      <td>0</td>\n",
       "      <td>Spaghetti</td>\n",
       "    </tr>\n",
       "  </tbody>\n",
       "</table>\n",
       "</div>"
      ],
      "text/plain": [
       "      xcenter    ycenter       width      height  confidence  class       name\n",
       "0   43.065254  34.503006   64.564636   39.929722    0.643403      0  Spaghetti\n",
       "1  115.878937  97.634796  209.692688  128.516479    0.265083      0  Spaghetti"
      ]
     },
     "metadata": {},
     "output_type": "display_data"
    },
    {
     "name": "stdout",
     "output_type": "stream",
     "text": [
      "[[43.06525421142578 34.50300598144531 64.56463623046875 39.92972183227539 0.6434033513069153 0 'Spaghetti']\n",
      " [115.87893676757812 97.63479614257812 209.69268798828125 128.5164794921875 0.26508253812789917 0 'Spaghetti']]\n"
     ]
    }
   ],
   "source": [
    "import torch\n",
    "import numpy as np\n",
    "\n",
    "# Model\n",
    "model = torch.hub.load(\"ultralytics/yolov5\", 'custom', path=\"current.pt\")\n",
    "\n",
    "# Image\n",
    "im = 'téléchargement.jpeg'\n",
    "\n",
    "# Inference\n",
    "results = model(im)\n",
    "display(results.pandas().xywh[0])\n",
    "print(np.array(results.pandas().xywh[0]))"
   ]
  },
  {
   "cell_type": "code",
   "execution_count": null,
   "metadata": {},
   "outputs": [],
   "source": []
  }
 ],
 "metadata": {
  "interpreter": {
   "hash": "916dbcbb3f70747c44a77c7bcd40155683ae19c65e1c03b4aa3499c5328201f1"
  },
  "kernelspec": {
   "display_name": "Python 3.10.4 64-bit",
   "language": "python",
   "name": "python3"
  },
  "language_info": {
   "codemirror_mode": {
    "name": "ipython",
    "version": 3
   },
   "file_extension": ".py",
   "mimetype": "text/x-python",
   "name": "python",
   "nbconvert_exporter": "python",
   "pygments_lexer": "ipython3",
   "version": "3.8.10"
  },
  "orig_nbformat": 4
 },
 "nbformat": 4,
 "nbformat_minor": 2
}
