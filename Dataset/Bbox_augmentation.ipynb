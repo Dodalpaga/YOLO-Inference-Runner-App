{
 "cells": [
  {
   "cell_type": "code",
   "execution_count": 36,
   "id": "45c1a3fb",
   "metadata": {},
   "outputs": [],
   "source": [
    "import albumentations as A\n",
    "import cv2\n",
    "import matplotlib.pyplot as plt\n",
    "import os\n",
    "\n",
    "from tqdm import tqdm"
   ]
  },
  {
   "cell_type": "code",
   "execution_count": 37,
   "id": "e44a4dcc",
   "metadata": {},
   "outputs": [],
   "source": [
    "# Chemin du dossier qui contient les images et les bounding boxs\n",
    "PATH = '3DPrintingAugmented'+\"/\""
   ]
  },
  {
   "cell_type": "code",
   "execution_count": 38,
   "id": "bf1fa2ab",
   "metadata": {},
   "outputs": [
    {
     "data": {
      "text/plain": [
       "0"
      ]
     },
     "execution_count": 38,
     "metadata": {},
     "output_type": "execute_result"
    }
   ],
   "source": [
    "# Chemins des dossiers qui contiendront les images et bounding boxs des images augmentées\n",
    "# Ne pas oublier de créer ces Dossiers avant de lancer le code !\n",
    "PATH_HORIZONTAL = PATH+'HorizontalFlip/'\n",
    "PATH_VERTICAL = PATH+'VerticalFlip/'\n",
    "PATH_TRANSPOSE = PATH+'Transpose/'\n",
    "PATH_INVERT = PATH+'Invert/'\n",
    "os.system(\"mkdir \"+PATH_HORIZONTAL)\n",
    "os.system(\"mkdir \"+PATH_VERTICAL)\n",
    "os.system(\"mkdir \"+PATH_TRANSPOSE)\n",
    "os.system(\"mkdir \"+PATH_INVERT)"
   ]
  },
  {
   "cell_type": "code",
   "execution_count": 39,
   "id": "9269de6d",
   "metadata": {},
   "outputs": [],
   "source": [
    "# Fonctions pour afficher les images avec les bounding boxs\n",
    "\n",
    "BOX_COLOR = (255, 0, 0)  # Red\n",
    "TEXT_COLOR = (255, 255, 255)  # White\n",
    "\n",
    "\n",
    "def visualize_bbox(img, bbox, class_name, color=BOX_COLOR, thickness=2):\n",
    "    \"\"\"Visualizes a single bounding box on the image\"\"\"\n",
    "    x_min, y_min, w, h = bbox\n",
    "    x_min, x_max, y_min, y_max = int(x_min), int(\n",
    "        x_min + w), int(y_min), int(y_min + h)\n",
    "\n",
    "    cv2.rectangle(img, (x_min, y_min), (x_max, y_max),\n",
    "                  color=color, thickness=thickness)\n",
    "\n",
    "    ((text_width, text_height), _) = cv2.getTextSize(\n",
    "        class_name, cv2.FONT_HERSHEY_SIMPLEX, 0.35, 1)\n",
    "    cv2.rectangle(img, (x_min, y_min - int(1.3 * text_height)),\n",
    "                  (x_min + text_width, y_min), BOX_COLOR, -1)\n",
    "    cv2.putText(\n",
    "        img,\n",
    "        text=class_name,\n",
    "        org=(x_min, y_min - int(0.3 * text_height)),\n",
    "        fontFace=cv2.FONT_HERSHEY_SIMPLEX,\n",
    "        fontScale=0.35,\n",
    "        color=TEXT_COLOR,\n",
    "        lineType=cv2.LINE_AA,\n",
    "    )\n",
    "    return img\n",
    "\n",
    "\n",
    "def visualize(image, bboxes, category_ids, category_id_to_name):\n",
    "    img = image.copy()\n",
    "    for bbox, category_id in zip(bboxes, category_ids):\n",
    "        class_name = category_id_to_name[category_id]\n",
    "        img = visualize_bbox(img, bbox, class_name)\n",
    "    plt.figure(figsize=(12, 12))\n",
    "    plt.axis('off')\n",
    "    plt.imshow(img)"
   ]
  },
  {
   "cell_type": "code",
   "execution_count": 40,
   "id": "ea429c58",
   "metadata": {},
   "outputs": [],
   "source": [
    "def get_bboxes(label_file):\n",
    "    f = open(label_file)\n",
    "    bboxes = f.readlines()\n",
    "    bboxes = [bbox.replace('\\n', '').split(' ')[1:] for bbox in bboxes]\n",
    "    bboxes = [[float(i) for i in bbox] for bbox in bboxes]\n",
    "    return bboxes"
   ]
  },
  {
   "cell_type": "code",
   "execution_count": 41,
   "id": "c068d488",
   "metadata": {},
   "outputs": [],
   "source": [
    "def save_new_bboxes(bboxes, labels, path):\n",
    "    textfile = [(i, *j) for i, j in zip(labels, bboxes)]\n",
    "    textfile = [' '.join(str(i) for i in bbox) + '\\n' for bbox in textfile]\n",
    "    nf = open(path, 'w')\n",
    "    nf.writelines(textfile)\n",
    "    nf.close()"
   ]
  },
  {
   "cell_type": "code",
   "execution_count": 42,
   "id": "6521b6cf",
   "metadata": {},
   "outputs": [],
   "source": [
    "def flip_augmentations(path_to_imgs=PATH, path_horizontal=PATH_HORIZONTAL, path_vertical=PATH_VERTICAL, path_transpose=PATH_TRANSPOSE):\n",
    "    all_files = os.listdir(path_to_imgs)\n",
    "    image_files = [file for file in all_files if file.endswith(\n",
    "        '.jpeg') or file.endswith('.jpg')]\n",
    "    label_files = [file for file in all_files if file.endswith('.txt')]\n",
    "\n",
    "    horizontal_flip = A.Compose([\n",
    "        A.HorizontalFlip(p=1)\n",
    "    ], bbox_params=A.BboxParams(format='yolo', label_fields=['class_labels']))\n",
    "\n",
    "    vertical_flip = A.Compose([\n",
    "        A.VerticalFlip(p=1)\n",
    "    ], bbox_params=A.BboxParams(format='yolo', label_fields=['class_labels']))\n",
    "\n",
    "    transpose = A.Compose([\n",
    "        A.Transpose(p=1)\n",
    "    ], bbox_params=A.BboxParams(format='yolo', label_fields=['class_labels']))\n",
    "\n",
    "    for img in tqdm(image_files):\n",
    "        label_file = img.split('.')[0]\n",
    "        if label_file + '.txt' in label_files:\n",
    "            image = cv2.imread(path_to_imgs + img)\n",
    "            bboxes = get_bboxes(path_to_imgs + label_file + '.txt')\n",
    "            labels = [0] * len(bboxes)\n",
    "            h = horizontal_flip(image=image, bboxes=bboxes,\n",
    "                                class_labels=labels)\n",
    "            v = vertical_flip(image=image, bboxes=bboxes, class_labels=labels)\n",
    "            t = transpose(image=image, bboxes=bboxes, class_labels=labels)\n",
    "            img_h, bbox_h, labels_h = h['image'], h['bboxes'], h['class_labels']\n",
    "            img_v, bbox_v, labels_v = v['image'], v['bboxes'], v['class_labels']\n",
    "            img_t, bbox_t, labels_t = t['image'], t['bboxes'], t['class_labels']\n",
    "            save_new_bboxes(bbox_h, labels_h,\n",
    "                            path_horizontal + f'{label_file}_H.txt')\n",
    "            cv2.imwrite(path_horizontal + f'{label_file}_H.jpeg', img_h)\n",
    "            save_new_bboxes(bbox_v, labels_v, path_vertical +\n",
    "                            f'{label_file}_V.txt')\n",
    "            cv2.imwrite(path_vertical + f'{label_file}_V.jpeg', img_v)\n",
    "            save_new_bboxes(bbox_t, labels_t, path_transpose +\n",
    "                            f'{label_file}_T.txt')\n",
    "            cv2.imwrite(path_transpose + f'{label_file}_T.jpeg', img_t)"
   ]
  },
  {
   "cell_type": "code",
   "execution_count": 43,
   "id": "b5f1a7d6",
   "metadata": {},
   "outputs": [],
   "source": [
    "def invert_augmentation(path_to_imgs=PATH, path_horizontal=PATH_HORIZONTAL, path_vertical=PATH_VERTICAL, path_transpose=PATH_TRANSPOSE, path_invert=PATH_INVERT):\n",
    "    base_files = os.listdir(path_to_imgs)\n",
    "    H_files = os.listdir(path_horizontal)\n",
    "    V_files = os.listdir(path_vertical)\n",
    "    T_files = os.listdir(path_transpose)\n",
    "    \n",
    "    image_base_files = [file for file in base_files if file.endswith('.jpeg') or file.endswith('.jpg')]\n",
    "    label_base_files = [file for file in base_files if file.endswith('.txt')]\n",
    "    \n",
    "    image_H_files = [file for file in H_files if file.endswith('.jpeg') or file.endswith('.jpg')]\n",
    "#     label_H_files = [file for file in H_files if file.endswith('.txt')]\n",
    "    image_V_files = [file for file in V_files if file.endswith('.jpeg') or file.endswith('.jpg')]\n",
    "    image_T_files = [file for file in T_files if file.endswith('.jpeg') or file.endswith('.jpg')]\n",
    "    \n",
    "    invert_img = A.Compose([\n",
    "        A.InvertImg(p=1)\n",
    "    ], bbox_params=A.BboxParams(format='yolo', label_fields=['class_labels']))\n",
    "    \n",
    "    print('Images de base en cours...')\n",
    "    for img in tqdm(image_base_files):\n",
    "        label_file = img.split('.')[0]\n",
    "        if label_file + '.txt' in label_base_files:\n",
    "            image = cv2.imread(path_to_imgs + img)\n",
    "            bboxes = get_bboxes(path_to_imgs + label_file + '.txt')\n",
    "            labels = [0] * len(bboxes)\n",
    "            i = invert_img(image=image, bboxes=bboxes, class_labels=labels)\n",
    "            img_i, bbox_i, labels_i = i['image'], i['bboxes'], i['class_labels']\n",
    "            save_new_bboxes(bbox_i, labels_i, path_invert + f'{label_file}_I.txt')\n",
    "            cv2.imwrite(path_invert + f'{label_file}_I.jpeg', img_i)\n",
    "            \n",
    "    print('Images retournées horizontalement en cours...')\n",
    "    for img in tqdm(image_H_files):\n",
    "        label_file = img.split('.')[0]\n",
    "        image = cv2.imread(path_horizontal + img)\n",
    "        bboxes = get_bboxes(path_horizontal + label_file + '.txt')\n",
    "        labels = [0] * len(bboxes)\n",
    "        i = invert_img(image=image, bboxes=bboxes, class_labels=labels)\n",
    "        img_i, bbox_i, labels_i = i['image'], i['bboxes'], i['class_labels']\n",
    "        save_new_bboxes(bbox_i, labels_i, path_invert + f'{label_file}_I.txt')\n",
    "        cv2.imwrite(path_invert + f'{label_file}_I.jpeg', img_i)\n",
    "    \n",
    "    print('Images retournées verticalement en cours...')\n",
    "    for img in tqdm(image_V_files):\n",
    "        label_file = img.split('.')[0]\n",
    "        image = cv2.imread(path_vertical + img)\n",
    "        bboxes = get_bboxes(path_vertical + label_file + '.txt')\n",
    "        labels = [0] * len(bboxes)\n",
    "        i = invert_img(image=image, bboxes=bboxes, class_labels=labels)\n",
    "        img_i, bbox_i, labels_i = i['image'], i['bboxes'], i['class_labels']\n",
    "        save_new_bboxes(bbox_i, labels_i, path_invert + f'{label_file}_I.txt')\n",
    "        cv2.imwrite(path_invert + f'{label_file}_I.jpeg', img_i)\n",
    "    \n",
    "    print('Images transposées en cours...')\n",
    "    for img in tqdm(image_T_files):\n",
    "        label_file = img.split('.')[0]\n",
    "        image = cv2.imread(path_transpose + img)\n",
    "        bboxes = get_bboxes(path_transpose + label_file + '.txt')\n",
    "        labels = [0] * len(bboxes)\n",
    "        i = invert_img(image=image, bboxes=bboxes, class_labels=labels)\n",
    "        img_i, bbox_i, labels_i = i['image'], i['bboxes'], i['class_labels']\n",
    "        save_new_bboxes(bbox_i, labels_i, path_invert + f'{label_file}_I.txt')\n",
    "        cv2.imwrite(path_invert + f'{label_file}_I.jpeg', img_i)\n",
    "    \n",
    "    print('Fini !')"
   ]
  },
  {
   "cell_type": "code",
   "execution_count": 44,
   "id": "0b16807b",
   "metadata": {},
   "outputs": [
    {
     "name": "stderr",
     "output_type": "stream",
     "text": [
      "100%|██████████| 340/340 [00:02<00:00, 116.55it/s]\n"
     ]
    }
   ],
   "source": [
    "# C'est parti !\n",
    "flip_augmentations()"
   ]
  },
  {
   "cell_type": "code",
   "execution_count": 45,
   "id": "54eaaf71",
   "metadata": {},
   "outputs": [
    {
     "name": "stdout",
     "output_type": "stream",
     "text": [
      "Images de base en cours...\n"
     ]
    },
    {
     "name": "stderr",
     "output_type": "stream",
     "text": [
      "100%|██████████| 340/340 [00:01<00:00, 267.47it/s]\n"
     ]
    },
    {
     "name": "stdout",
     "output_type": "stream",
     "text": [
      "Images retournées horizontalement en cours...\n"
     ]
    },
    {
     "name": "stderr",
     "output_type": "stream",
     "text": [
      "100%|██████████| 340/340 [00:01<00:00, 311.59it/s]\n"
     ]
    },
    {
     "name": "stdout",
     "output_type": "stream",
     "text": [
      "Images retournées verticalement en cours...\n"
     ]
    },
    {
     "name": "stderr",
     "output_type": "stream",
     "text": [
      "100%|██████████| 340/340 [00:01<00:00, 291.19it/s]\n"
     ]
    },
    {
     "name": "stdout",
     "output_type": "stream",
     "text": [
      "Images transposées en cours...\n"
     ]
    },
    {
     "name": "stderr",
     "output_type": "stream",
     "text": [
      "100%|██████████| 340/340 [00:01<00:00, 214.70it/s]"
     ]
    },
    {
     "name": "stdout",
     "output_type": "stream",
     "text": [
      "Fini !\n"
     ]
    },
    {
     "name": "stderr",
     "output_type": "stream",
     "text": [
      "\n"
     ]
    }
   ],
   "source": [
    "# Nouvelle augmentation de toutes les images crées cette fois ci !\n",
    "invert_augmentation()"
   ]
  },
  {
   "cell_type": "code",
   "execution_count": null,
   "id": "18c34116",
   "metadata": {},
   "outputs": [],
   "source": []
  },
  {
   "cell_type": "code",
   "execution_count": null,
   "id": "64c1c274",
   "metadata": {},
   "outputs": [],
   "source": []
  }
 ],
 "metadata": {
  "kernelspec": {
   "display_name": "Python 3",
   "language": "python",
   "name": "python3"
  },
  "language_info": {
   "codemirror_mode": {
    "name": "ipython",
    "version": 3
   },
   "file_extension": ".py",
   "mimetype": "text/x-python",
   "name": "python",
   "nbconvert_exporter": "python",
   "pygments_lexer": "ipython3",
   "version": "3.9.10"
  }
 },
 "nbformat": 4,
 "nbformat_minor": 5
}
