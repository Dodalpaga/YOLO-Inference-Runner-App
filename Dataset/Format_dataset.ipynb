{
 "cells": [
  {
   "cell_type": "code",
   "execution_count": 15,
   "metadata": {},
   "outputs": [],
   "source": [
    "import albumentations as A\n",
    "import cv2\n",
    "import matplotlib.pyplot as plt\n",
    "import os\n",
    "\n",
    "from tqdm import tqdm"
   ]
  },
  {
   "cell_type": "code",
   "execution_count": 16,
   "metadata": {},
   "outputs": [],
   "source": [
    "# Chemin du dossier qui contient les images et les bounding boxs\n",
    "origin = '3DPrintingAugmented'+\"/\""
   ]
  },
  {
   "cell_type": "code",
   "execution_count": 19,
   "metadata": {},
   "outputs": [
    {
     "name": "stdout",
     "output_type": "stream",
     "text": [
      "340  images ont été changées\n"
     ]
    }
   ],
   "source": [
    "from PIL import Image\n",
    "import os\n",
    "compteur=0\n",
    "for filename in os.listdir(origin):\n",
    "    if filename.endswith(\".jpeg\"):\n",
    "        im = Image.open(origin+filename)\n",
    "        name=origin+'image_'+str(compteur)+'.jpeg'\n",
    "        im.save(name)\n",
    "        os.remove(origin + filename)\n",
    "        \n",
    "        f1 = open(origin+filename[:-5]+\".txt\",'r')\n",
    "        data = f1.read()\n",
    "        f1.close()\n",
    "        f2 = open(origin+\"image_\"+str(compteur)+\".txt\",'w')\n",
    "        f2.write(data)\n",
    "        f2.close()\n",
    "        os.remove(origin + filename[:-5]+\".txt\")\n",
    "        compteur+=1\n",
    "    if filename.endswith(\".jpg\"):\n",
    "        im = Image.open(origin+filename)\n",
    "        name=origin+'image_'+str(compteur)+'.jpeg'\n",
    "        im.save(name)\n",
    "        os.remove(origin + filename)\n",
    "        \n",
    "        f1 = open(origin+filename[:-4]+\".txt\",'r')\n",
    "        data = f1.read()\n",
    "        f1.close()\n",
    "        f2 = open(origin+\"image_\"+str(compteur)+\".txt\",'w')\n",
    "        f2.write(data)\n",
    "        f2.close()\n",
    "        os.remove(origin + filename[:-4]+\".txt\")\n",
    "        compteur+=1\n",
    "print(compteur,\" images ont été changées\")"
   ]
  }
 ],
 "metadata": {
  "interpreter": {
   "hash": "7dea69c4271c791951cd9f80ee861534c4b7f67a60701a47948cd4b2e76759b8"
  },
  "kernelspec": {
   "display_name": "Python 3.9.10 ('base')",
   "language": "python",
   "name": "python3"
  },
  "language_info": {
   "codemirror_mode": {
    "name": "ipython",
    "version": 3
   },
   "file_extension": ".py",
   "mimetype": "text/x-python",
   "name": "python",
   "nbconvert_exporter": "python",
   "pygments_lexer": "ipython3",
   "version": "3.9.10"
  },
  "orig_nbformat": 4
 },
 "nbformat": 4,
 "nbformat_minor": 2
}
